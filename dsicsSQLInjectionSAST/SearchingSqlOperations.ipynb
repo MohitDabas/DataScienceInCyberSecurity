{
 "cells": [
  {
   "cell_type": "markdown",
   "metadata": {},
   "source": [
    "#### following is the notebook for finding sql operation in the codebase for finding sql injection vulnerability."
   ]
  },
  {
   "cell_type": "code",
   "execution_count": null,
   "metadata": {},
   "outputs": [],
   "source": []
  },
  {
   "cell_type": "markdown",
   "metadata": {},
   "source": [
    "Regex for finding sql queries in the codebase."
   ]
  },
  {
   "cell_type": "markdown",
   "metadata": {},
   "source": [
    ">(SELECT|UPDATE|INSERT|DELETE|CREATE|DROP|ALTER)[\\s\\S]+?;\\s*?$"
   ]
  },
  {
   "cell_type": "code",
   "execution_count": null,
   "metadata": {},
   "outputs": [],
   "source": [
    "import sastgriper"
   ]
  },
  {
   "cell_type": "code",
   "execution_count": null,
   "metadata": {},
   "outputs": [],
   "source": [
    "import pandas as pd"
   ]
  },
  {
   "cell_type": "code",
   "execution_count": null,
   "metadata": {},
   "outputs": [],
   "source": [
    "regexString=\"(SELECT|UPDATE|INSERT|DELETE|CREATE|DROP|ALTER)[\\s\\S]+?;\\s*?$\""
   ]
  },
  {
   "cell_type": "code",
   "execution_count": null,
   "metadata": {},
   "outputs": [],
   "source": [
    "result=sastgriper.command_rec(regexString,\"./cacti-develop/\")\n",
    "result"
   ]
  },
  {
   "cell_type": "code",
   "execution_count": null,
   "metadata": {},
   "outputs": [],
   "source": [
    "TempList=[*result.values()][0]\n",
    "LinkForVSCode=[]\n",
    "for link in TempList:\n",
    "    LinkForVSCode.append('http://localhost:5000/open_viscode?PathNLineNum='+link[0]+':'+link[1])\n",
    "LinkForVSCode"
   ]
  },
  {
   "cell_type": "code",
   "execution_count": null,
   "metadata": {},
   "outputs": [],
   "source": [
    "from IPython.display import HTML\n",
    "sastDataFrame=pd.DataFrame([*result.values()][0],columns=['File Name','Code Line Number','Code Found'])\n",
    "\n",
    "sastDataFrame.insert(3,\"Open in VSCode\",LinkForVSCode,True)\n",
    "#sastDataFrame\n",
    "def make_clickable(val):\n",
    "    # target _blank to open new window\n",
    "    return '<a target=\"_blank\" href=\"{}\">Open</a>'.format(val)\n",
    "\n",
    "m=sastDataFrame.head(20).style.format({'Open in VSCode': make_clickable})\n"
   ]
  },
  {
   "cell_type": "code",
   "execution_count": null,
   "metadata": {},
   "outputs": [],
   "source": [
    "sastDataFrame.shape\n",
    "sastDataFrame[sastDataFrame['Code Found'].str.contains('\\?')].head(20).style.format({'Open in VSCode': make_clickable})"
   ]
  },
  {
   "cell_type": "code",
   "execution_count": 30,
   "metadata": {},
   "outputs": [
    {
     "data": {
      "text/html": [
       "<style  type=\"text/css\" >\n",
       "</style><table id=\"T_063df28e_6c74_11ea_8678_186590d12fe3\" ><thead>    <tr>        <th class=\"blank level0\" ></th>        <th class=\"col_heading level0 col0\" >File Name</th>        <th class=\"col_heading level0 col1\" >Code Line Number</th>        <th class=\"col_heading level0 col2\" >Code Found</th>        <th class=\"col_heading level0 col3\" >Open in VSCode</th>    </tr></thead><tbody>\n",
       "                <tr>\n",
       "                        <th id=\"T_063df28e_6c74_11ea_8678_186590d12fe3level0_row0\" class=\"row_heading level0 row0\" >0</th>\n",
       "                        <td id=\"T_063df28e_6c74_11ea_8678_186590d12fe3row0_col0\" class=\"data row0 col0\" >./cacti-develop/sites.php</td>\n",
       "                        <td id=\"T_063df28e_6c74_11ea_8678_186590d12fe3row0_col1\" class=\"data row0 col1\" >276</td>\n",
       "                        <td id=\"T_063df28e_6c74_11ea_8678_186590d12fe3row0_col2\" class=\"data row0 col2\" >\t\t\t\tdb_execute(&#x27;DELETE FROM sites WHERE &#x27; . array_to_sql_or($selected_items, &#x27;id&#x27;));</td>\n",
       "                        <td id=\"T_063df28e_6c74_11ea_8678_186590d12fe3row0_col3\" class=\"data row0 col3\" ><a target=\"_blank\" href=\"http://localhost:5000/open_viscode?PathNLineNum=./cacti-develop/sites.php:276\">Open</a></td>\n",
       "            </tr>\n",
       "            <tr>\n",
       "                        <th id=\"T_063df28e_6c74_11ea_8678_186590d12fe3level0_row1\" class=\"row_heading level0 row1\" >1</th>\n",
       "                        <td id=\"T_063df28e_6c74_11ea_8678_186590d12fe3row1_col0\" class=\"data row1 col0\" >./cacti-develop/sites.php</td>\n",
       "                        <td id=\"T_063df28e_6c74_11ea_8678_186590d12fe3row1_col1\" class=\"data row1 col1\" >277</td>\n",
       "                        <td id=\"T_063df28e_6c74_11ea_8678_186590d12fe3row1_col2\" class=\"data row1 col2\" >\t\t\t\tdb_execute(&#x27;UPDATE host SET site_id=0 WHERE deleted=&quot;&quot; AND &#x27; . array_to_sql_or($selected_items, &#x27;site_id&#x27;));</td>\n",
       "                        <td id=\"T_063df28e_6c74_11ea_8678_186590d12fe3row1_col3\" class=\"data row1 col3\" ><a target=\"_blank\" href=\"http://localhost:5000/open_viscode?PathNLineNum=./cacti-develop/sites.php:277\">Open</a></td>\n",
       "            </tr>\n",
       "            <tr>\n",
       "                        <th id=\"T_063df28e_6c74_11ea_8678_186590d12fe3level0_row2\" class=\"row_heading level0 row2\" >4</th>\n",
       "                        <td id=\"T_063df28e_6c74_11ea_8678_186590d12fe3row2_col0\" class=\"data row2 col0\" >./cacti-develop/sites.php</td>\n",
       "                        <td id=\"T_063df28e_6c74_11ea_8678_186590d12fe3row2_col1\" class=\"data row2 col1\" >496</td>\n",
       "                        <td id=\"T_063df28e_6c74_11ea_8678_186590d12fe3row2_col2\" class=\"data row2 col2\" >\t$total_rows = db_fetch_cell(&quot;SELECT COUNT(*) FROM sites $sql_where&quot;);</td>\n",
       "                        <td id=\"T_063df28e_6c74_11ea_8678_186590d12fe3row2_col3\" class=\"data row2 col3\" ><a target=\"_blank\" href=\"http://localhost:5000/open_viscode?PathNLineNum=./cacti-develop/sites.php:496\">Open</a></td>\n",
       "            </tr>\n",
       "            <tr>\n",
       "                        <th id=\"T_063df28e_6c74_11ea_8678_186590d12fe3level0_row3\" class=\"row_heading level0 row3\" >8</th>\n",
       "                        <td id=\"T_063df28e_6c74_11ea_8678_186590d12fe3row3_col0\" class=\"data row3 col0\" >./cacti-develop/automation_devices.php</td>\n",
       "                        <td id=\"T_063df28e_6c74_11ea_8678_186590d12fe3row3_col1\" class=\"data row3 col1\" >160</td>\n",
       "                        <td id=\"T_063df28e_6c74_11ea_8678_186590d12fe3row3_col2\" class=\"data row3 col2\" >\t$available_host_templates = db_fetch_assoc_prepared(&#x27;SELECT id, name FROM host_template ORDER BY name&#x27;);</td>\n",
       "                        <td id=\"T_063df28e_6c74_11ea_8678_186590d12fe3row3_col3\" class=\"data row3 col3\" ><a target=\"_blank\" href=\"http://localhost:5000/open_viscode?PathNLineNum=./cacti-develop/automation_devices.php:160\">Open</a></td>\n",
       "            </tr>\n",
       "            <tr>\n",
       "                        <th id=\"T_063df28e_6c74_11ea_8678_186590d12fe3level0_row4\" class=\"row_heading level0 row4\" >9</th>\n",
       "                        <td id=\"T_063df28e_6c74_11ea_8678_186590d12fe3row4_col0\" class=\"data row4 col0\" >./cacti-develop/automation_devices.php</td>\n",
       "                        <td id=\"T_063df28e_6c74_11ea_8678_186590d12fe3row4_col1\" class=\"data row4 col1\" >165</td>\n",
       "                        <td id=\"T_063df28e_6c74_11ea_8678_186590d12fe3row4_col2\" class=\"data row4 col2\" >\t\t\t$pollers = db_fetch_assoc_prepared(&#x27;SELECT id, name FROM poller ORDER BY name&#x27;);</td>\n",
       "                        <td id=\"T_063df28e_6c74_11ea_8678_186590d12fe3row4_col3\" class=\"data row4 col3\" ><a target=\"_blank\" href=\"http://localhost:5000/open_viscode?PathNLineNum=./cacti-develop/automation_devices.php:165\">Open</a></td>\n",
       "            </tr>\n",
       "            <tr>\n",
       "                        <th id=\"T_063df28e_6c74_11ea_8678_186590d12fe3level0_row5\" class=\"row_heading level0 row5\" >10</th>\n",
       "                        <td id=\"T_063df28e_6c74_11ea_8678_186590d12fe3row5_col0\" class=\"data row5 col0\" >./cacti-develop/automation_devices.php</td>\n",
       "                        <td id=\"T_063df28e_6c74_11ea_8678_186590d12fe3row5_col1\" class=\"data row5 col1\" >169</td>\n",
       "                        <td id=\"T_063df28e_6c74_11ea_8678_186590d12fe3row5_col2\" class=\"data row5 col2\" >\t\t\t$devices = db_fetch_assoc(&#x27;SELECT id, sysName, sysDescr FROM automation_devices WHERE id IN (&#x27; . implode(&#x27;,&#x27;, $device_array) . &#x27;)&#x27;);</td>\n",
       "                        <td id=\"T_063df28e_6c74_11ea_8678_186590d12fe3row5_col3\" class=\"data row5 col3\" ><a target=\"_blank\" href=\"http://localhost:5000/open_viscode?PathNLineNum=./cacti-develop/automation_devices.php:169\">Open</a></td>\n",
       "            </tr>\n",
       "            <tr>\n",
       "                        <th id=\"T_063df28e_6c74_11ea_8678_186590d12fe3level0_row6\" class=\"row_heading level0 row6\" >11</th>\n",
       "                        <td id=\"T_063df28e_6c74_11ea_8678_186590d12fe3row6_col0\" class=\"data row6 col0\" >./cacti-develop/automation_devices.php</td>\n",
       "                        <td id=\"T_063df28e_6c74_11ea_8678_186590d12fe3row6_col1\" class=\"data row6 col1\" >420</td>\n",
       "                        <td id=\"T_063df28e_6c74_11ea_8678_186590d12fe3row6_col2\" class=\"data row6 col2\" >\t\treturn db_fetch_assoc(&quot;SELECT * FROM automation_devices $sql_where ORDER BY INET_ATON(ip)&quot;);</td>\n",
       "                        <td id=\"T_063df28e_6c74_11ea_8678_186590d12fe3row6_col3\" class=\"data row6 col3\" ><a target=\"_blank\" href=\"http://localhost:5000/open_viscode?PathNLineNum=./cacti-develop/automation_devices.php:420\">Open</a></td>\n",
       "            </tr>\n",
       "            <tr>\n",
       "                        <th id=\"T_063df28e_6c74_11ea_8678_186590d12fe3level0_row7\" class=\"row_heading level0 row7\" >18</th>\n",
       "                        <td id=\"T_063df28e_6c74_11ea_8678_186590d12fe3row7_col0\" class=\"data row7 col0\" >./cacti-develop/gprint_presets.php</td>\n",
       "                        <td id=\"T_063df28e_6c74_11ea_8678_186590d12fe3row7_col1\" class=\"data row7 col1\" >112</td>\n",
       "                        <td id=\"T_063df28e_6c74_11ea_8678_186590d12fe3row7_col2\" class=\"data row7 col2\" >\t\t\t\tdb_execute(&#x27;DELETE FROM graph_templates_gprint WHERE &#x27; . array_to_sql_or($selected_items, &#x27;id&#x27;));</td>\n",
       "                        <td id=\"T_063df28e_6c74_11ea_8678_186590d12fe3row7_col3\" class=\"data row7 col3\" ><a target=\"_blank\" href=\"http://localhost:5000/open_viscode?PathNLineNum=./cacti-develop/gprint_presets.php:112\">Open</a></td>\n",
       "            </tr>\n",
       "            <tr>\n",
       "                        <th id=\"T_063df28e_6c74_11ea_8678_186590d12fe3level0_row8\" class=\"row_heading level0 row8\" >23</th>\n",
       "                        <td id=\"T_063df28e_6c74_11ea_8678_186590d12fe3row8_col0\" class=\"data row8 col0\" >./cacti-develop/automation_networks.php</td>\n",
       "                        <td id=\"T_063df28e_6c74_11ea_8678_186590d12fe3row8_col1\" class=\"data row8 col1\" >1055</td>\n",
       "                        <td id=\"T_063df28e_6c74_11ea_8678_186590d12fe3row8_col2\" class=\"data row8 col2\" >\t$total_rows = db_fetch_cell(&#x27;SELECT COUNT(*) FROM automation_networks &#x27; . $sql_where);</td>\n",
       "                        <td id=\"T_063df28e_6c74_11ea_8678_186590d12fe3row8_col3\" class=\"data row8 col3\" ><a target=\"_blank\" href=\"http://localhost:5000/open_viscode?PathNLineNum=./cacti-develop/automation_networks.php:1055\">Open</a></td>\n",
       "            </tr>\n",
       "            <tr>\n",
       "                        <th id=\"T_063df28e_6c74_11ea_8678_186590d12fe3level0_row9\" class=\"row_heading level0 row9\" >24</th>\n",
       "                        <td id=\"T_063df28e_6c74_11ea_8678_186590d12fe3row9_col0\" class=\"data row9 col0\" >./cacti-develop/color_templates.php</td>\n",
       "                        <td id=\"T_063df28e_6c74_11ea_8678_186590d12fe3row9_col1\" class=\"data row9 col1\" >191</td>\n",
       "                        <td id=\"T_063df28e_6c74_11ea_8678_186590d12fe3row9_col2\" class=\"data row9 col2\" >\t\t\t\tdb_execute(&#x27;DELETE FROM color_templates WHERE &#x27; . array_to_sql_or($selected_items, &#x27;color_template_id&#x27;));</td>\n",
       "                        <td id=\"T_063df28e_6c74_11ea_8678_186590d12fe3row9_col3\" class=\"data row9 col3\" ><a target=\"_blank\" href=\"http://localhost:5000/open_viscode?PathNLineNum=./cacti-develop/color_templates.php:191\">Open</a></td>\n",
       "            </tr>\n",
       "            <tr>\n",
       "                        <th id=\"T_063df28e_6c74_11ea_8678_186590d12fe3level0_row10\" class=\"row_heading level0 row10\" >25</th>\n",
       "                        <td id=\"T_063df28e_6c74_11ea_8678_186590d12fe3row10_col0\" class=\"data row10 col0\" >./cacti-develop/color_templates.php</td>\n",
       "                        <td id=\"T_063df28e_6c74_11ea_8678_186590d12fe3row10_col1\" class=\"data row10 col1\" >192</td>\n",
       "                        <td id=\"T_063df28e_6c74_11ea_8678_186590d12fe3row10_col2\" class=\"data row10 col2\" >\t\t\t\tdb_execute(&#x27;DELETE FROM color_template_items WHERE &#x27; . array_to_sql_or($selected_items, &#x27;color_template_id&#x27;));</td>\n",
       "                        <td id=\"T_063df28e_6c74_11ea_8678_186590d12fe3row10_col3\" class=\"data row10 col3\" ><a target=\"_blank\" href=\"http://localhost:5000/open_viscode?PathNLineNum=./cacti-develop/color_templates.php:192\">Open</a></td>\n",
       "            </tr>\n",
       "            <tr>\n",
       "                        <th id=\"T_063df28e_6c74_11ea_8678_186590d12fe3level0_row11\" class=\"row_heading level0 row11\" >28</th>\n",
       "                        <td id=\"T_063df28e_6c74_11ea_8678_186590d12fe3row11_col0\" class=\"data row11 col0\" >./cacti-develop/poller_boost.php</td>\n",
       "                        <td id=\"T_063df28e_6c74_11ea_8678_186590d12fe3row11_col1\" class=\"data row11 col1\" >255</td>\n",
       "                        <td id=\"T_063df28e_6c74_11ea_8678_186590d12fe3row11_col2\" class=\"data row11 col2\" >\tdb_execute(&quot;CREATE TABLE $interim_table LIKE poller_output_boost&quot;);</td>\n",
       "                        <td id=\"T_063df28e_6c74_11ea_8678_186590d12fe3row11_col3\" class=\"data row11 col3\" ><a target=\"_blank\" href=\"http://localhost:5000/open_viscode?PathNLineNum=./cacti-develop/poller_boost.php:255\">Open</a></td>\n",
       "            </tr>\n",
       "            <tr>\n",
       "                        <th id=\"T_063df28e_6c74_11ea_8678_186590d12fe3level0_row12\" class=\"row_heading level0 row12\" >29</th>\n",
       "                        <td id=\"T_063df28e_6c74_11ea_8678_186590d12fe3row12_col0\" class=\"data row12 col0\" >./cacti-develop/poller_boost.php</td>\n",
       "                        <td id=\"T_063df28e_6c74_11ea_8678_186590d12fe3row12_col1\" class=\"data row12 col1\" >268</td>\n",
       "                        <td id=\"T_063df28e_6c74_11ea_8678_186590d12fe3row12_col2\" class=\"data row12 col2\" >\t\t\t$rows = db_fetch_cell(&quot;SELECT count(local_data_id) FROM $table_name&quot;);</td>\n",
       "                        <td id=\"T_063df28e_6c74_11ea_8678_186590d12fe3row12_col3\" class=\"data row12 col3\" ><a target=\"_blank\" href=\"http://localhost:5000/open_viscode?PathNLineNum=./cacti-develop/poller_boost.php:268\">Open</a></td>\n",
       "            </tr>\n",
       "            <tr>\n",
       "                        <th id=\"T_063df28e_6c74_11ea_8678_186590d12fe3level0_row13\" class=\"row_heading level0 row13\" >30</th>\n",
       "                        <td id=\"T_063df28e_6c74_11ea_8678_186590d12fe3row13_col0\" class=\"data row13 col0\" >./cacti-develop/poller_boost.php</td>\n",
       "                        <td id=\"T_063df28e_6c74_11ea_8678_186590d12fe3row13_col1\" class=\"data row13 col1\" >270</td>\n",
       "                        <td id=\"T_063df28e_6c74_11ea_8678_186590d12fe3row13_col2\" class=\"data row13 col2\" >\t\t\t\tdb_execute(&quot;INSERT INTO $archive_table SELECT * FROM $table_name&quot;);</td>\n",
       "                        <td id=\"T_063df28e_6c74_11ea_8678_186590d12fe3row13_col3\" class=\"data row13 col3\" ><a target=\"_blank\" href=\"http://localhost:5000/open_viscode?PathNLineNum=./cacti-develop/poller_boost.php:270\">Open</a></td>\n",
       "            </tr>\n",
       "            <tr>\n",
       "                        <th id=\"T_063df28e_6c74_11ea_8678_186590d12fe3level0_row14\" class=\"row_heading level0 row14\" >31</th>\n",
       "                        <td id=\"T_063df28e_6c74_11ea_8678_186590d12fe3row14_col0\" class=\"data row14 col0\" >./cacti-develop/poller_boost.php</td>\n",
       "                        <td id=\"T_063df28e_6c74_11ea_8678_186590d12fe3row14_col1\" class=\"data row14 col1\" >292</td>\n",
       "                        <td id=\"T_063df28e_6c74_11ea_8678_186590d12fe3row14_col2\" class=\"data row14 col2\" >\t$total_rows = db_fetch_cell(&quot;SELECT COUNT(local_data_id) FROM $archive_table&quot;);</td>\n",
       "                        <td id=\"T_063df28e_6c74_11ea_8678_186590d12fe3row14_col3\" class=\"data row14 col3\" ><a target=\"_blank\" href=\"http://localhost:5000/open_viscode?PathNLineNum=./cacti-develop/poller_boost.php:292\">Open</a></td>\n",
       "            </tr>\n",
       "            <tr>\n",
       "                        <th id=\"T_063df28e_6c74_11ea_8678_186590d12fe3level0_row15\" class=\"row_heading level0 row15\" >32</th>\n",
       "                        <td id=\"T_063df28e_6c74_11ea_8678_186590d12fe3row15_col0\" class=\"data row15 col0\" >./cacti-develop/poller_boost.php</td>\n",
       "                        <td id=\"T_063df28e_6c74_11ea_8678_186590d12fe3row15_col1\" class=\"data row15 col1\" >293</td>\n",
       "                        <td id=\"T_063df28e_6c74_11ea_8678_186590d12fe3row15_col2\" class=\"data row15 col2\" >\t$data_ids   = db_fetch_cell(&quot;SELECT COUNT(DISTINCT local_data_id) FROM $archive_table&quot;);</td>\n",
       "                        <td id=\"T_063df28e_6c74_11ea_8678_186590d12fe3row15_col3\" class=\"data row15 col3\" ><a target=\"_blank\" href=\"http://localhost:5000/open_viscode?PathNLineNum=./cacti-develop/poller_boost.php:293\">Open</a></td>\n",
       "            </tr>\n",
       "            <tr>\n",
       "                        <th id=\"T_063df28e_6c74_11ea_8678_186590d12fe3level0_row16\" class=\"row_heading level0 row16\" >33</th>\n",
       "                        <td id=\"T_063df28e_6c74_11ea_8678_186590d12fe3row16_col0\" class=\"data row16 col0\" >./cacti-develop/poller_boost.php</td>\n",
       "                        <td id=\"T_063df28e_6c74_11ea_8678_186590d12fe3row16_col1\" class=\"data row16 col1\" >324</td>\n",
       "                        <td id=\"T_063df28e_6c74_11ea_8678_186590d12fe3row16_col2\" class=\"data row16 col2\" >\tdb_execute(&#x27;DROP TEMPORARY TABLE boost_local_data_ids&#x27;);</td>\n",
       "                        <td id=\"T_063df28e_6c74_11ea_8678_186590d12fe3row16_col3\" class=\"data row16 col3\" ><a target=\"_blank\" href=\"http://localhost:5000/open_viscode?PathNLineNum=./cacti-develop/poller_boost.php:324\">Open</a></td>\n",
       "            </tr>\n",
       "            <tr>\n",
       "                        <th id=\"T_063df28e_6c74_11ea_8678_186590d12fe3level0_row17\" class=\"row_heading level0 row17\" >34</th>\n",
       "                        <td id=\"T_063df28e_6c74_11ea_8678_186590d12fe3row17_col0\" class=\"data row17 col0\" >./cacti-develop/poller_boost.php</td>\n",
       "                        <td id=\"T_063df28e_6c74_11ea_8678_186590d12fe3row17_col1\" class=\"data row17 col1\" >346</td>\n",
       "                        <td id=\"T_063df28e_6c74_11ea_8678_186590d12fe3row17_col2\" class=\"data row17 col2\" >\t\t\t$rows = db_fetch_cell(&#x27;SELECT count(local_data_id) FROM &#x27; . $table[&#x27;name&#x27;]);</td>\n",
       "                        <td id=\"T_063df28e_6c74_11ea_8678_186590d12fe3row17_col3\" class=\"data row17 col3\" ><a target=\"_blank\" href=\"http://localhost:5000/open_viscode?PathNLineNum=./cacti-develop/poller_boost.php:346\">Open</a></td>\n",
       "            </tr>\n",
       "            <tr>\n",
       "                        <th id=\"T_063df28e_6c74_11ea_8678_186590d12fe3level0_row18\" class=\"row_heading level0 row18\" >35</th>\n",
       "                        <td id=\"T_063df28e_6c74_11ea_8678_186590d12fe3row18_col0\" class=\"data row18 col0\" >./cacti-develop/poller_boost.php</td>\n",
       "                        <td id=\"T_063df28e_6c74_11ea_8678_186590d12fe3row18_col1\" class=\"data row18 col1\" >348</td>\n",
       "                        <td id=\"T_063df28e_6c74_11ea_8678_186590d12fe3row18_col2\" class=\"data row18 col2\" >\t\t\t\tdb_execute(&#x27;DROP TABLE IF EXISTS &#x27; . $table[&#x27;name&#x27;]);</td>\n",
       "                        <td id=\"T_063df28e_6c74_11ea_8678_186590d12fe3row18_col3\" class=\"data row18 col3\" ><a target=\"_blank\" href=\"http://localhost:5000/open_viscode?PathNLineNum=./cacti-develop/poller_boost.php:348\">Open</a></td>\n",
       "            </tr>\n",
       "            <tr>\n",
       "                        <th id=\"T_063df28e_6c74_11ea_8678_186590d12fe3level0_row19\" class=\"row_heading level0 row19\" >36</th>\n",
       "                        <td id=\"T_063df28e_6c74_11ea_8678_186590d12fe3row19_col0\" class=\"data row19 col0\" >./cacti-develop/poller_boost.php</td>\n",
       "                        <td id=\"T_063df28e_6c74_11ea_8678_186590d12fe3row19_col1\" class=\"data row19 col1\" >353</td>\n",
       "                        <td id=\"T_063df28e_6c74_11ea_8678_186590d12fe3row19_col2\" class=\"data row19 col2\" >\tdb_execute(&quot;SELECT RELEASE_LOCK(&#x27;poller_boost&#x27;);&quot;);</td>\n",
       "                        <td id=\"T_063df28e_6c74_11ea_8678_186590d12fe3row19_col3\" class=\"data row19 col3\" ><a target=\"_blank\" href=\"http://localhost:5000/open_viscode?PathNLineNum=./cacti-develop/poller_boost.php:353\">Open</a></td>\n",
       "            </tr>\n",
       "    </tbody></table>"
      ],
      "text/plain": [
       "<pandas.io.formats.style.Styler at 0x126788860>"
      ]
     },
     "execution_count": 30,
     "metadata": {},
     "output_type": "execute_result"
    }
   ],
   "source": [
    "sastDataFrame[~sastDataFrame['Code Found'].str.contains('\\?')].head(20).style.format({'Open in VSCode': make_clickable})"
   ]
  }
 ],
 "metadata": {
  "kernelspec": {
   "display_name": "Python 3",
   "language": "python",
   "name": "python3"
  },
  "language_info": {
   "codemirror_mode": {
    "name": "ipython",
    "version": 3
   },
   "file_extension": ".py",
   "mimetype": "text/x-python",
   "name": "python",
   "nbconvert_exporter": "python",
   "pygments_lexer": "ipython3",
   "version": "3.7.3"
  }
 },
 "nbformat": 4,
 "nbformat_minor": 4
}
